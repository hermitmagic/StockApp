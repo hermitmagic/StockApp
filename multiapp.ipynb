{
 "cells": [
  {
   "cell_type": "code",
   "execution_count": null,
   "metadata": {},
   "outputs": [],
   "source": []
  },
  {
   "cell_type": "code",
   "execution_count": 1,
   "metadata": {},
   "outputs": [
    {
     "name": "stderr",
     "output_type": "stream",
     "text": [
      "C:\\Users\\HP\\Anaconda3\\lib\\site-packages\\pandas\\compat\\_optional.py:138: UserWarning: Pandas requires version '2.7.0' or newer of 'numexpr' (version '2.6.9' currently installed).\n",
      "  warnings.warn(msg, UserWarning)\n"
     ]
    }
   ],
   "source": [
    "# Import necessary libraries \n",
    "import streamlit as st\n",
    "\n",
    "# Define the multipage class to manage the multiple apps in our program \n",
    "class MultiPage: \n",
    "    \n",
    "\n",
    "    def __init__(self) -> None:\n",
    "        \"\"\"Constructor class to generate a list which will store all our applications as an instance variable.\"\"\"\n",
    "        self.pages = []\n",
    "    \n",
    "    def add_page(self, title, func) -> None: \n",
    "        \"\"\"\n",
    "            title ([str]): The title of page which we are adding to the list of apps \n",
    "            \n",
    "            func: Python function to render this page in Streamlit\n",
    "        \"\"\"\n",
    "\n",
    "        self.pages.append(\n",
    "            {\n",
    "                \"title\": title, \n",
    "                \"function\": func\n",
    "            }\n",
    "        )\n",
    "\n",
    "    def run(self):\n",
    "         \n",
    "        page = st.sidebar.selectbox(\n",
    "            'App Navigation', \n",
    "            self.pages, \n",
    "            format_func=lambda page: page['title']\n",
    "        )\n",
    "\n",
    "        # run the app function \n",
    "        page['function']()"
   ]
  },
  {
   "cell_type": "code",
   "execution_count": null,
   "metadata": {},
   "outputs": [],
   "source": []
  }
 ],
 "metadata": {
  "kernelspec": {
   "display_name": "Python 3 (ipykernel)",
   "language": "python",
   "name": "python3"
  },
  "language_info": {
   "codemirror_mode": {
    "name": "ipython",
    "version": 3
   },
   "file_extension": ".py",
   "mimetype": "text/x-python",
   "name": "python",
   "nbconvert_exporter": "python",
   "pygments_lexer": "ipython3",
   "version": "3.7.3"
  }
 },
 "nbformat": 4,
 "nbformat_minor": 2
}
