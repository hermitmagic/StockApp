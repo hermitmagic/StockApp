{
 "cells": [
  {
   "cell_type": "code",
   "execution_count": null,
   "metadata": {},
   "outputs": [],
   "source": []
  },
  {
   "cell_type": "code",
   "execution_count": 1,
   "metadata": {},
   "outputs": [
    {
     "name": "stderr",
     "output_type": "stream",
     "text": [
      "C:\\Users\\HP\\Anaconda3\\lib\\site-packages\\pandas\\compat\\_optional.py:138: UserWarning: Pandas requires version '2.7.0' or newer of 'numexpr' (version '2.6.9' currently installed).\n",
      "  warnings.warn(msg, UserWarning)\n",
      "2022-05-15 12:38:02.735 \n",
      "  \u001b[33m\u001b[1mWarning:\u001b[0m to view this Streamlit app on a browser, run it with the following\n",
      "  command:\n",
      "\n",
      "    streamlit run C:\\Users\\HP\\Anaconda3\\lib\\site-packages\\ipykernel_launcher.py [ARGUMENTS]\n"
     ]
    }
   ],
   "source": [
    "import os\n",
    "import streamlit as st\n",
    "import numpy as np\n",
    "from PIL import  Image\n",
    "\n",
    "import sys  \n",
    "sys.path.insert(0, 'C:/Users/HP/Desktop/Extra-Ordinary/StockApp/pages/')\n",
    "\n",
    "import home3, news3\n",
    "\n",
    "# Custom imports \n",
    "from multiapp import MultiPage\n",
    "#from pages import home3,news3 # import your pages here\n",
    "\n",
    "# Create an instance of the app \n",
    "app = MultiPage()\n",
    "\n",
    "# Title of the main page\n",
    "display = Image.open('stock.jpg')\n",
    "display = np.array(display)\n",
    "st.title(\"Stock Dasboard\")\n",
    "st.image(display, width = 400)\n",
    "\n",
    "\n",
    "\n",
    "# Add all your application here\n",
    "app.add_page(\"Home\", home3.app)\n",
    "app.add_page(\"News\", news3.app)\n",
    "\n",
    "\n",
    "# The main app\n",
    "app.run()\n"
   ]
  },
  {
   "cell_type": "code",
   "execution_count": null,
   "metadata": {},
   "outputs": [],
   "source": []
  }
 ],
 "metadata": {
  "kernelspec": {
   "display_name": "Python 3 (ipykernel)",
   "language": "python",
   "name": "python3"
  },
  "language_info": {
   "codemirror_mode": {
    "name": "ipython",
    "version": 3
   },
   "file_extension": ".py",
   "mimetype": "text/x-python",
   "name": "python",
   "nbconvert_exporter": "python",
   "pygments_lexer": "ipython3",
   "version": "3.7.3"
  }
 },
 "nbformat": 4,
 "nbformat_minor": 2
}
